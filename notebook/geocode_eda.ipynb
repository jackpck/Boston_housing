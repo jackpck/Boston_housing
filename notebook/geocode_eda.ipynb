{
 "cells": [
  {
   "cell_type": "code",
   "execution_count": 1,
   "metadata": {},
   "outputs": [
    {
     "name": "stdout",
     "output_type": "stream",
     "text": [
      "number of data before outlier removal:  7912\n",
      "number of data after outlier removal:  6357\n",
      "number of data after removing new data:  6350\n"
     ]
    }
   ],
   "source": [
    "import pandas as pd\n",
    "import sys\n",
    "import numpy as np\n",
    "\n",
    "sys.path.append('~/PycharmProjects/Boston_housing/')\n",
    "\n",
    "df_master = pd.read_csv('./data/' + 'redfin_2020-01-19-08-17-26.csv')\n",
    "df_master.pop('SOLD DATE')\n",
    "df_condo = pd.read_csv('./data/' + 'Boston_condo_transaction.csv',index_col=0)\n",
    "df_sfr = pd.read_csv('./data/' + 'Boston_single_family_residential_transaction.csv',index_col=0)\n",
    "df_townhouse = pd.read_csv('./data/' + 'Boston_townhouse_transaction.csv',index_col=0)\n",
    "\n",
    "df_transaction = pd.concat([df_condo,df_sfr,df_townhouse])\n",
    "\n",
    "df = df_master.join(df_transaction,how='inner')\n",
    "\n",
    "def outlier(x):\n",
    "    return 1.5*(np.quantile(x,0.75)-np.quantile(x,0.25)) + np.quantile(x,0.75)\n",
    "\n",
    "df['SOLD DATE'] = pd.to_datetime(df['SOLD DATE'])\n",
    "df['LIST DATE'] = pd.to_datetime(df['LIST DATE'])\n",
    "df['DAYS ON MKT'] = (df['SOLD DATE'] - df['LIST DATE']).apply(lambda x: x.days)\n",
    "df['HOA/MONTH'] = df['HOA/MONTH'].fillna(0)\n",
    "\n",
    "df_outlier = df[['DAYS ON MKT','SOLD PRICE','LIST PRICE','HOA/MONTH']].apply(lambda x: outlier(x),axis=0)\n",
    "\n",
    "print('number of data before outlier removal: ',len(df))\n",
    "\n",
    "df = df[(df['DAYS ON MKT'] < df_outlier['DAYS ON MKT'])&\n",
    "        (df['SOLD PRICE'] < df_outlier['SOLD PRICE']) &\n",
    "        (df['LIST PRICE'] < df_outlier['LIST PRICE']) &\n",
    "        (df['HOA/MONTH'] < df_outlier['HOA/MONTH'])]\n",
    "\n",
    "print('number of data after outlier removal: ',len(df))\n",
    "\n",
    "df = df[df['DAYS ON MKT'] > 0] # price history scraped after the spreadsheet\n",
    "\n",
    "print('number of data after removing new data: ',len(df))"
   ]
  },
  {
   "cell_type": "code",
   "execution_count": 7,
   "metadata": {},
   "outputs": [],
   "source": [
    "import matplotlib.pyplot as plt\n",
    "%matplotlib inline\n",
    "\n",
    "\n",
    "import seaborn as sns\n",
    "\n",
    "import geopandas\n",
    "\n",
    "sns.set()\n",
    "\n",
    "\n",
    "gdf = geopandas.GeoDataFrame(\n",
    "    df, geometry=geopandas.points_from_xy(x=df.LONGITUDE, y=df.LATITUDE)\n",
    ")\n",
    "\n",
    "\n"
   ]
  },
  {
   "cell_type": "code",
   "execution_count": null,
   "metadata": {},
   "outputs": [],
   "source": []
  }
 ],
 "metadata": {
  "kernelspec": {
   "display_name": "Python 3",
   "language": "python",
   "name": "python3"
  },
  "language_info": {
   "codemirror_mode": {
    "name": "ipython",
    "version": 3
   },
   "file_extension": ".py",
   "mimetype": "text/x-python",
   "name": "python",
   "nbconvert_exporter": "python",
   "pygments_lexer": "ipython3",
   "version": "3.6.10"
  }
 },
 "nbformat": 4,
 "nbformat_minor": 2
}
