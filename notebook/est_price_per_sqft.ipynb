{
 "cells": [
  {
   "cell_type": "code",
   "execution_count": 2,
   "metadata": {},
   "outputs": [],
   "source": [
    "import pandas as pd\n",
    "import numpy as np\n",
    "import matplotlib.pyplot as plt\n",
    "\n",
    "import sys\n",
    "\n",
    "sys.path.append('~/PycharmProjects/Boston_housing/')\n",
    "\n",
    "pd.set_option('max_columns',50)\n",
    "pd.set_option('max_rows',2000)\n",
    "\n",
    "property_type = 'condo'\n",
    "PROPERTY_TYPE = 'Condo/Co-op'\n",
    "\n",
    "df = pd.read_csv('../data/raw_joined/' + 'Boston_%s_joined_dataframe.csv'%property_type,index_col=0)\n"
   ]
  },
  {
   "cell_type": "code",
   "execution_count": 3,
   "metadata": {
    "scrolled": false
   },
   "outputs": [
    {
     "data": {
      "text/html": [
       "<div>\n",
       "<style scoped>\n",
       "    .dataframe tbody tr th:only-of-type {\n",
       "        vertical-align: middle;\n",
       "    }\n",
       "\n",
       "    .dataframe tbody tr th {\n",
       "        vertical-align: top;\n",
       "    }\n",
       "\n",
       "    .dataframe thead th {\n",
       "        text-align: right;\n",
       "    }\n",
       "</style>\n",
       "<table border=\"1\" class=\"dataframe\">\n",
       "  <thead>\n",
       "    <tr style=\"text-align: right;\">\n",
       "      <th></th>\n",
       "      <th>YEAR BUILT</th>\n",
       "      <th>SQUARE FEET</th>\n",
       "      <th>$/SQUARE FEET</th>\n",
       "      <th>BEDS</th>\n",
       "      <th>BATHS</th>\n",
       "      <th>LOT SIZE</th>\n",
       "      <th>HOA/MONTH</th>\n",
       "      <th>REMARKS</th>\n",
       "      <th>LIST PRICE</th>\n",
       "      <th>SOLD PRICE</th>\n",
       "      <th>LIST DATE</th>\n",
       "      <th>SOLD DATE</th>\n",
       "      <th>convenience</th>\n",
       "      <th>supermarket</th>\n",
       "      <th>park</th>\n",
       "      <th>school</th>\n",
       "      <th>station</th>\n",
       "      <th>stop_position</th>\n",
       "      <th>EST $/SQUARE FEET</th>\n",
       "      <th>DAYS ON MKT</th>\n",
       "    </tr>\n",
       "  </thead>\n",
       "  <tbody>\n",
       "    <tr>\n",
       "      <th>6258</th>\n",
       "      <td>1982.0</td>\n",
       "      <td>948.0</td>\n",
       "      <td>338.0</td>\n",
       "      <td>2.0</td>\n",
       "      <td>1.5</td>\n",
       "      <td>948.0</td>\n",
       "      <td>374.0</td>\n",
       "      <td>floor uint conveni locat station walk lot pri...</td>\n",
       "      <td>349900</td>\n",
       "      <td>320000</td>\n",
       "      <td>2017-01-20</td>\n",
       "      <td>2017-07-10</td>\n",
       "      <td>0</td>\n",
       "      <td>0</td>\n",
       "      <td>0</td>\n",
       "      <td>2</td>\n",
       "      <td>0</td>\n",
       "      <td>0</td>\n",
       "      <td>877.0</td>\n",
       "      <td>171</td>\n",
       "    </tr>\n",
       "    <tr>\n",
       "      <th>1970</th>\n",
       "      <td>1905.0</td>\n",
       "      <td>919.0</td>\n",
       "      <td>571.0</td>\n",
       "      <td>2.0</td>\n",
       "      <td>1.0</td>\n",
       "      <td>1114.0</td>\n",
       "      <td>160.0</td>\n",
       "      <td>renov highli desir open kitchen flood natur s...</td>\n",
       "      <td>469900</td>\n",
       "      <td>525000</td>\n",
       "      <td>2017-01-20</td>\n",
       "      <td>2017-02-28</td>\n",
       "      <td>0</td>\n",
       "      <td>0</td>\n",
       "      <td>0</td>\n",
       "      <td>2</td>\n",
       "      <td>0</td>\n",
       "      <td>2</td>\n",
       "      <td>877.0</td>\n",
       "      <td>39</td>\n",
       "    </tr>\n",
       "    <tr>\n",
       "      <th>1633</th>\n",
       "      <td>2016.0</td>\n",
       "      <td>1352.0</td>\n",
       "      <td>730.0</td>\n",
       "      <td>2.0</td>\n",
       "      <td>2.0</td>\n",
       "      <td>0.0</td>\n",
       "      <td>9999.0</td>\n",
       "      <td>construct bathroom corner home privat deck li...</td>\n",
       "      <td>1015000</td>\n",
       "      <td>986960</td>\n",
       "      <td>2017-01-20</td>\n",
       "      <td>2017-03-31</td>\n",
       "      <td>1</td>\n",
       "      <td>0</td>\n",
       "      <td>0</td>\n",
       "      <td>1</td>\n",
       "      <td>1</td>\n",
       "      <td>19</td>\n",
       "      <td>877.0</td>\n",
       "      <td>70</td>\n",
       "    </tr>\n",
       "    <tr>\n",
       "      <th>8197</th>\n",
       "      <td>2002.0</td>\n",
       "      <td>877.0</td>\n",
       "      <td>787.0</td>\n",
       "      <td>1.0</td>\n",
       "      <td>1.0</td>\n",
       "      <td>877.0</td>\n",
       "      <td>605.0</td>\n",
       "      <td>face bedroom servic elev build heart loft liv...</td>\n",
       "      <td>699000</td>\n",
       "      <td>690000</td>\n",
       "      <td>2017-01-20</td>\n",
       "      <td>2017-04-03</td>\n",
       "      <td>1</td>\n",
       "      <td>2</td>\n",
       "      <td>0</td>\n",
       "      <td>2</td>\n",
       "      <td>0</td>\n",
       "      <td>30</td>\n",
       "      <td>877.0</td>\n",
       "      <td>73</td>\n",
       "    </tr>\n",
       "    <tr>\n",
       "      <th>2266</th>\n",
       "      <td>1900.0</td>\n",
       "      <td>1765.0</td>\n",
       "      <td>156.0</td>\n",
       "      <td>4.0</td>\n",
       "      <td>2.0</td>\n",
       "      <td>0.0</td>\n",
       "      <td>0.0</td>\n",
       "      <td>thi contact list agent inform room bedroom co...</td>\n",
       "      <td>269900</td>\n",
       "      <td>275900</td>\n",
       "      <td>2017-01-21</td>\n",
       "      <td>2017-03-24</td>\n",
       "      <td>0</td>\n",
       "      <td>0</td>\n",
       "      <td>0</td>\n",
       "      <td>3</td>\n",
       "      <td>0</td>\n",
       "      <td>0</td>\n",
       "      <td>877.0</td>\n",
       "      <td>62</td>\n",
       "    </tr>\n",
       "    <tr>\n",
       "      <th>7511</th>\n",
       "      <td>1890.0</td>\n",
       "      <td>385.0</td>\n",
       "      <td>1117.0</td>\n",
       "      <td>1.0</td>\n",
       "      <td>1.0</td>\n",
       "      <td>0.0</td>\n",
       "      <td>414.0</td>\n",
       "      <td>the apart locat heart desir street close line...</td>\n",
       "      <td>389900</td>\n",
       "      <td>430000</td>\n",
       "      <td>2017-01-22</td>\n",
       "      <td>2017-03-03</td>\n",
       "      <td>4</td>\n",
       "      <td>1</td>\n",
       "      <td>1</td>\n",
       "      <td>6</td>\n",
       "      <td>2</td>\n",
       "      <td>19</td>\n",
       "      <td>877.0</td>\n",
       "      <td>40</td>\n",
       "    </tr>\n",
       "    <tr>\n",
       "      <th>7883</th>\n",
       "      <td>1910.0</td>\n",
       "      <td>952.0</td>\n",
       "      <td>457.0</td>\n",
       "      <td>2.0</td>\n",
       "      <td>1.0</td>\n",
       "      <td>952.0</td>\n",
       "      <td>218.0</td>\n",
       "      <td>great view renov maintain ha locat walk dista...</td>\n",
       "      <td>429900</td>\n",
       "      <td>435000</td>\n",
       "      <td>2017-01-22</td>\n",
       "      <td>2017-03-17</td>\n",
       "      <td>0</td>\n",
       "      <td>0</td>\n",
       "      <td>0</td>\n",
       "      <td>2</td>\n",
       "      <td>0</td>\n",
       "      <td>0</td>\n",
       "      <td>877.0</td>\n",
       "      <td>54</td>\n",
       "    </tr>\n",
       "    <tr>\n",
       "      <th>2264</th>\n",
       "      <td>1925.0</td>\n",
       "      <td>800.0</td>\n",
       "      <td>344.0</td>\n",
       "      <td>2.0</td>\n",
       "      <td>1.0</td>\n",
       "      <td>0.0</td>\n",
       "      <td>200.0</td>\n",
       "      <td>vibrant cityliv rare price newli updat build ...</td>\n",
       "      <td>269900</td>\n",
       "      <td>275000</td>\n",
       "      <td>2017-01-23</td>\n",
       "      <td>2017-04-03</td>\n",
       "      <td>0</td>\n",
       "      <td>0</td>\n",
       "      <td>0</td>\n",
       "      <td>5</td>\n",
       "      <td>0</td>\n",
       "      <td>0</td>\n",
       "      <td>509.5</td>\n",
       "      <td>70</td>\n",
       "    </tr>\n",
       "    <tr>\n",
       "      <th>6901</th>\n",
       "      <td>1901.0</td>\n",
       "      <td>1398.0</td>\n",
       "      <td>1341.0</td>\n",
       "      <td>2.0</td>\n",
       "      <td>2.5</td>\n",
       "      <td>0.0</td>\n",
       "      <td>1286.0</td>\n",
       "      <td>rare opportun garag park thi bedroom twoandah...</td>\n",
       "      <td>1890000</td>\n",
       "      <td>1875000</td>\n",
       "      <td>2017-01-23</td>\n",
       "      <td>2017-03-10</td>\n",
       "      <td>1</td>\n",
       "      <td>2</td>\n",
       "      <td>3</td>\n",
       "      <td>6</td>\n",
       "      <td>1</td>\n",
       "      <td>6</td>\n",
       "      <td>509.5</td>\n",
       "      <td>46</td>\n",
       "    </tr>\n",
       "    <tr>\n",
       "      <th>4158</th>\n",
       "      <td>1910.0</td>\n",
       "      <td>1660.0</td>\n",
       "      <td>1476.0</td>\n",
       "      <td>3.0</td>\n",
       "      <td>2.0</td>\n",
       "      <td>1660.0</td>\n",
       "      <td>732.0</td>\n",
       "      <td>renov meticul attent bedroom bathroom resid f...</td>\n",
       "      <td>2590000</td>\n",
       "      <td>2450000</td>\n",
       "      <td>2017-01-23</td>\n",
       "      <td>2017-03-27</td>\n",
       "      <td>1</td>\n",
       "      <td>0</td>\n",
       "      <td>3</td>\n",
       "      <td>13</td>\n",
       "      <td>1</td>\n",
       "      <td>3</td>\n",
       "      <td>509.5</td>\n",
       "      <td>63</td>\n",
       "    </tr>\n",
       "  </tbody>\n",
       "</table>\n",
       "</div>"
      ],
      "text/plain": [
       "      YEAR BUILT  SQUARE FEET  $/SQUARE FEET  BEDS  BATHS  LOT SIZE  \\\n",
       "6258      1982.0        948.0          338.0   2.0    1.5     948.0   \n",
       "1970      1905.0        919.0          571.0   2.0    1.0    1114.0   \n",
       "1633      2016.0       1352.0          730.0   2.0    2.0       0.0   \n",
       "8197      2002.0        877.0          787.0   1.0    1.0     877.0   \n",
       "2266      1900.0       1765.0          156.0   4.0    2.0       0.0   \n",
       "7511      1890.0        385.0         1117.0   1.0    1.0       0.0   \n",
       "7883      1910.0        952.0          457.0   2.0    1.0     952.0   \n",
       "2264      1925.0        800.0          344.0   2.0    1.0       0.0   \n",
       "6901      1901.0       1398.0         1341.0   2.0    2.5       0.0   \n",
       "4158      1910.0       1660.0         1476.0   3.0    2.0    1660.0   \n",
       "\n",
       "      HOA/MONTH                                            REMARKS  \\\n",
       "6258      374.0   floor uint conveni locat station walk lot pri...   \n",
       "1970      160.0   renov highli desir open kitchen flood natur s...   \n",
       "1633     9999.0   construct bathroom corner home privat deck li...   \n",
       "8197      605.0   face bedroom servic elev build heart loft liv...   \n",
       "2266        0.0   thi contact list agent inform room bedroom co...   \n",
       "7511      414.0   the apart locat heart desir street close line...   \n",
       "7883      218.0   great view renov maintain ha locat walk dista...   \n",
       "2264      200.0   vibrant cityliv rare price newli updat build ...   \n",
       "6901     1286.0   rare opportun garag park thi bedroom twoandah...   \n",
       "4158      732.0   renov meticul attent bedroom bathroom resid f...   \n",
       "\n",
       "      LIST PRICE  SOLD PRICE   LIST DATE   SOLD DATE  convenience  \\\n",
       "6258      349900      320000  2017-01-20  2017-07-10            0   \n",
       "1970      469900      525000  2017-01-20  2017-02-28            0   \n",
       "1633     1015000      986960  2017-01-20  2017-03-31            1   \n",
       "8197      699000      690000  2017-01-20  2017-04-03            1   \n",
       "2266      269900      275900  2017-01-21  2017-03-24            0   \n",
       "7511      389900      430000  2017-01-22  2017-03-03            4   \n",
       "7883      429900      435000  2017-01-22  2017-03-17            0   \n",
       "2264      269900      275000  2017-01-23  2017-04-03            0   \n",
       "6901     1890000     1875000  2017-01-23  2017-03-10            1   \n",
       "4158     2590000     2450000  2017-01-23  2017-03-27            1   \n",
       "\n",
       "      supermarket  park  school  station  stop_position  EST $/SQUARE FEET  \\\n",
       "6258            0     0       2        0              0              877.0   \n",
       "1970            0     0       2        0              2              877.0   \n",
       "1633            0     0       1        1             19              877.0   \n",
       "8197            2     0       2        0             30              877.0   \n",
       "2266            0     0       3        0              0              877.0   \n",
       "7511            1     1       6        2             19              877.0   \n",
       "7883            0     0       2        0              0              877.0   \n",
       "2264            0     0       5        0              0              509.5   \n",
       "6901            2     3       6        1              6              509.5   \n",
       "4158            0     3      13        1              3              509.5   \n",
       "\n",
       "      DAYS ON MKT  \n",
       "6258          171  \n",
       "1970           39  \n",
       "1633           70  \n",
       "8197           73  \n",
       "2266           62  \n",
       "7511           40  \n",
       "7883           54  \n",
       "2264           70  \n",
       "6901           46  \n",
       "4158           63  "
      ]
     },
     "execution_count": 3,
     "metadata": {},
     "output_type": "execute_result"
    }
   ],
   "source": [
    "df.head(10)"
   ]
  },
  {
   "cell_type": "code",
   "execution_count": 4,
   "metadata": {},
   "outputs": [
    {
     "data": {
      "text/plain": [
       "YEAR BUILT                                                        1910\n",
       "SQUARE FEET                                                       1213\n",
       "$/SQUARE FEET                                                      568\n",
       "BEDS                                                                 3\n",
       "BATHS                                                                2\n",
       "LOT SIZE                                                          1710\n",
       "HOA/MONTH                                                          257\n",
       "REMARKS               bed bath penthous privat roof complet renov h...\n",
       "LIST PRICE                                                      749000\n",
       "SOLD PRICE                                                      689000\n",
       "LIST DATE                                                   2017-04-27\n",
       "SOLD DATE                                                   2017-08-07\n",
       "convenience                                                          1\n",
       "supermarket                                                          0\n",
       "park                                                                 0\n",
       "school                                                               0\n",
       "station                                                              0\n",
       "stop_position                                                        8\n",
       "EST $/SQUARE FEET                                                635.5\n",
       "DAYS ON MKT                                                        102\n",
       "Name: 2872, dtype: object"
      ]
     },
     "execution_count": 4,
     "metadata": {},
     "output_type": "execute_result"
    }
   ],
   "source": [
    "df.loc[2872]"
   ]
  },
  {
   "cell_type": "code",
   "execution_count": 5,
   "metadata": {
    "scrolled": false
   },
   "outputs": [
    {
     "data": {
      "text/plain": [
       "[<matplotlib.lines.Line2D at 0x2cf70cb98c8>]"
      ]
     },
     "execution_count": 5,
     "metadata": {},
     "output_type": "execute_result"
    },
    {
     "data": {
      "image/png": "[encoded data removed]",
      "text/plain": [
       "<Figure size 720x720 with 1 Axes>"
      ]
     },
     "metadata": {
      "needs_background": "light"
     },
     "output_type": "display_data"
    }
   ],
   "source": [
    "fig = plt.figure(figsize=(10,10))\n",
    "plt.scatter(df['EST $/SQUARE FEET'],df['$/SQUARE FEET'])\n",
    "plt.plot(list(range(0,3000)),list(range(0,3000)),'k--')"
   ]
  },
  {
   "cell_type": "code",
   "execution_count": 6,
   "metadata": {},
   "outputs": [
    {
     "data": {
      "text/plain": [
       "0.45238981018465496"
      ]
     },
     "execution_count": 6,
     "metadata": {},
     "output_type": "execute_result"
    }
   ],
   "source": [
    "np.mean(np.abs(df['EST $/SQUARE FEET']-df['$/SQUARE FEET'])/df['$/SQUARE FEET'])"
   ]
  },
  {
   "cell_type": "code",
   "execution_count": 47,
   "metadata": {},
   "outputs": [],
   "source": [
    "df['LIST MONTH'] = pd.to_datetime(df['LIST DATE']).apply(lambda x: x.month)\n",
    "df['LIST YEAR'] = pd.to_datetime(df['LIST DATE']).apply(lambda x: x.year)"
   ]
  },
  {
   "cell_type": "code",
   "execution_count": 52,
   "metadata": {},
   "outputs": [
    {
     "ename": "KeyError",
     "evalue": "\"None of ['LIST DATE'] are in the columns\"",
     "output_type": "error",
     "traceback": [
      "\u001b[1;31m---------------------------------------------------------------------------\u001b[0m",
      "\u001b[1;31mKeyError\u001b[0m                                  Traceback (most recent call last)",
      "\u001b[1;32m<ipython-input-52-91208dff4b5f>\u001b[0m in \u001b[0;36m<module>\u001b[1;34m\u001b[0m\n\u001b[0;32m      1\u001b[0m \u001b[0mmask\u001b[0m \u001b[1;33m=\u001b[0m \u001b[1;33m(\u001b[0m\u001b[0mdf\u001b[0m\u001b[1;33m[\u001b[0m\u001b[1;34m'LIST YEAR'\u001b[0m\u001b[1;33m]\u001b[0m\u001b[1;33m==\u001b[0m\u001b[1;36m2017\u001b[0m\u001b[1;33m)\u001b[0m \u001b[1;33m&\u001b[0m \u001b[1;33m(\u001b[0m\u001b[0mdf\u001b[0m\u001b[1;33m[\u001b[0m\u001b[1;34m'LIST MONTH'\u001b[0m\u001b[1;33m]\u001b[0m\u001b[1;33m<\u001b[0m\u001b[1;36m4\u001b[0m\u001b[1;33m)\u001b[0m\u001b[1;33m\u001b[0m\u001b[1;33m\u001b[0m\u001b[0m\n\u001b[1;32m----> 2\u001b[1;33m \u001b[0mdf\u001b[0m\u001b[1;33m[\u001b[0m\u001b[1;33m[\u001b[0m\u001b[1;34m'LIST DATE'\u001b[0m\u001b[1;33m,\u001b[0m\u001b[1;34m'$/SQUARE FEET'\u001b[0m\u001b[1;33m]\u001b[0m\u001b[1;33m]\u001b[0m\u001b[1;33m[\u001b[0m\u001b[0mmask\u001b[0m\u001b[1;33m]\u001b[0m\u001b[1;33m.\u001b[0m\u001b[0mgroupby\u001b[0m\u001b[1;33m(\u001b[0m\u001b[1;34m'LIST DATE'\u001b[0m\u001b[1;33m)\u001b[0m\u001b[1;33m.\u001b[0m\u001b[0mmean\u001b[0m\u001b[1;33m(\u001b[0m\u001b[1;33m)\u001b[0m\u001b[1;33m.\u001b[0m\u001b[0mset_index\u001b[0m\u001b[1;33m(\u001b[0m\u001b[1;34m'LIST DATE'\u001b[0m\u001b[1;33m)\u001b[0m\u001b[1;33m.\u001b[0m\u001b[0mplot\u001b[0m\u001b[1;33m(\u001b[0m\u001b[0mfigsize\u001b[0m\u001b[1;33m=\u001b[0m\u001b[1;33m(\u001b[0m\u001b[1;36m15\u001b[0m\u001b[1;33m,\u001b[0m\u001b[1;36m10\u001b[0m\u001b[1;33m)\u001b[0m\u001b[1;33m)\u001b[0m\u001b[1;33m\u001b[0m\u001b[1;33m\u001b[0m\u001b[0m\n\u001b[0m",
      "\u001b[1;32mC:\\Users\\jacky\\PycharmProjects\\oil_futures\\env\\lib\\site-packages\\pandas\\core\\frame.py\u001b[0m in \u001b[0;36mset_index\u001b[1;34m(self, keys, drop, append, inplace, verify_integrity)\u001b[0m\n\u001b[0;32m   4301\u001b[0m \u001b[1;33m\u001b[0m\u001b[0m\n\u001b[0;32m   4302\u001b[0m         \u001b[1;32mif\u001b[0m \u001b[0mmissing\u001b[0m\u001b[1;33m:\u001b[0m\u001b[1;33m\u001b[0m\u001b[1;33m\u001b[0m\u001b[0m\n\u001b[1;32m-> 4303\u001b[1;33m             \u001b[1;32mraise\u001b[0m \u001b[0mKeyError\u001b[0m\u001b[1;33m(\u001b[0m\u001b[1;34mf\"None of {missing} are in the columns\"\u001b[0m\u001b[1;33m)\u001b[0m\u001b[1;33m\u001b[0m\u001b[1;33m\u001b[0m\u001b[0m\n\u001b[0m\u001b[0;32m   4304\u001b[0m \u001b[1;33m\u001b[0m\u001b[0m\n\u001b[0;32m   4305\u001b[0m         \u001b[1;32mif\u001b[0m \u001b[0minplace\u001b[0m\u001b[1;33m:\u001b[0m\u001b[1;33m\u001b[0m\u001b[1;33m\u001b[0m\u001b[0m\n",
      "\u001b[1;31mKeyError\u001b[0m: \"None of ['LIST DATE'] are in the columns\""
     ]
    }
   ],
   "source": [
    "mask = (df['LIST YEAR']==2017) & (df['LIST MONTH']<4)\n",
    "df[['LIST DATE','$/SQUARE FEET']][mask].groupby('LIST DATE').mean().set_index('LIST DATE').plot(figsize=(15,10))"
   ]
  },
  {
   "cell_type": "code",
   "execution_count": 19,
   "metadata": {
    "scrolled": false
   },
   "outputs": [],
   "source": [
    "df['LIST MONTH'] = pd.to_datetime(df['LIST DATE']).apply(lambda x: x.month)\n",
    "df['LIST YEAR'] = pd.to_datetime(df['LIST DATE']).apply(lambda x: x.year)"
   ]
  },
  {
   "cell_type": "code",
   "execution_count": 43,
   "metadata": {},
   "outputs": [
    {
     "data": {
      "text/plain": [
       "(500.0, 1000.0)"
      ]
     },
     "execution_count": 43,
     "metadata": {},
     "output_type": "execute_result"
    },
    {
     "data": {
      "image/png": "[encoded data removed]",
      "text/plain": [
       "<Figure size 432x288 with 1 Axes>"
      ]
     },
     "metadata": {
      "needs_background": "light"
     },
     "output_type": "display_data"
    }
   ],
   "source": [
    "mask = (df['LIST YEAR']==2019)\n",
    "df[['LIST MONTH','$/SQUARE FEET']][mask].groupby('LIST MONTH').boxplot(subplots=False, rot=90)\n",
    "plt.ylim([500,1000])"
   ]
  },
  {
   "cell_type": "code",
   "execution_count": null,
   "metadata": {
    "scrolled": false
   },
   "outputs": [],
   "source": []
  },
  {
   "cell_type": "code",
   "execution_count": null,
   "metadata": {},
   "outputs": [],
   "source": []
  }
 ],
 "metadata": {
  "kernelspec": {
   "display_name": "Python 3",
   "language": "python",
   "name": "python3"
  },
  "language_info": {
   "codemirror_mode": {
    "name": "ipython",
    "version": 3
   },
   "file_extension": ".py",
   "mimetype": "text/x-python",
   "name": "python",
   "nbconvert_exporter": "python",
   "pygments_lexer": "ipython3",
   "version": "3.7.4"
  }
 },
 "nbformat": 4,
 "nbformat_minor": 2
}
