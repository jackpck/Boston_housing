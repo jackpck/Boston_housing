{
 "cells": [
  {
   "cell_type": "markdown",
   "metadata": {},
   "source": [
    "# Predicting the market trend using LSTM\n",
    "In this notebook, I will use LSTM to predict the daily average selling price for different properties in Boston. I will compare the performance of the LSTM to the baseline model, which is to always use the previous daily average to predict the next daily average."
   ]
  },
  {
   "cell_type": "code",
   "execution_count": 99,
   "metadata": {},
   "outputs": [
    {
     "name": "stdout",
     "output_type": "stream",
     "text": [
      "Index(['convenience', 'supermarket', 'park', 'school', 'station',\n",
      "       'stop_position', 'LIST PRICE', 'SQUARE FEET', 'YEAR BUILT', 'BEDS',\n",
      "       'BATHS', 'LOT SIZE', 'HOA/MONTH', 'EST $ TREND', 'REMARKS_1',\n",
      "       'REMARKS_2', 'REMARKS_3', 'REMARKS_4', 'REMARKS_5', 'REMARKS_6',\n",
      "       'REMARKS_7', 'REMARKS_8', 'REMARKS_9', 'REMARKS_10', 'SOLD PRICE',\n",
      "       'SOLD DATE'],\n",
      "      dtype='object')\n"
     ]
    }
   ],
   "source": [
    "import warnings\n",
    "\n",
    "warnings.filterwarnings('ignore')\n",
    "\n",
    "import numpy as np\n",
    "import pandas as pd\n",
    "import sys\n",
    "sys.path.append('../functions/')\n",
    "\n",
    "from lstm_functions import data_splitting,data_scaler,data_reshaping,create_dataset,\\\n",
    "    build_lstm\n",
    "from sklearn.metrics import r2_score,mean_squared_error\n",
    "import matplotlib.pyplot as plt\n",
    "\n",
    "\n",
    "property_type = 'townhouse'\n",
    "\n",
    "df_features = pd.read_csv('../data/processed/' + 'Boston_%s_feature_matrix.csv'%property_type,index_col=0)\n",
    "df_features = df_features.sort_values('SOLD DATE')\n",
    "\n",
    "feature_names = df_features.columns\n",
    "print(feature_names)\n",
    "\n",
    "df_features['$/SQUARE FEET'] = df_features['SOLD PRICE']/df_features['SQUARE FEET']"
   ]
  },
  {
   "cell_type": "code",
   "execution_count": 100,
   "metadata": {},
   "outputs": [
    {
     "name": "stdout",
     "output_type": "stream",
     "text": [
      "       SOLD DATE  $/SQUARE FEET\n",
      "4793  2017-01-20     660.858816\n",
      "6665  2017-01-31     459.183673\n",
      "9092  2017-01-31     432.002384\n",
      "6314  2017-02-01     490.463215\n",
      "7148  2017-02-07     277.737226\n",
      "...          ...            ...\n",
      "4623  2020-01-03     391.280045\n",
      "4584  2020-01-03     371.075167\n",
      "4545  2020-01-10     346.607670\n",
      "4300  2020-01-16     370.707779\n",
      "4316  2020-01-17     176.402545\n",
      "\n",
      "[545 rows x 2 columns]\n",
      "Epoch 1/20\n",
      " - 2s - loss: 0.0632\n",
      "Epoch 2/20\n",
      " - 1s - loss: 0.0557\n",
      "Epoch 3/20\n",
      " - 1s - loss: 0.0543\n",
      "Epoch 4/20\n",
      " - 1s - loss: 0.0542\n",
      "Epoch 5/20\n",
      " - 1s - loss: 0.0533\n",
      "Epoch 6/20\n",
      " - 1s - loss: 0.0502\n",
      "Epoch 7/20\n",
      " - 1s - loss: 0.0517\n",
      "Epoch 8/20\n",
      " - 1s - loss: 0.0513\n",
      "Epoch 9/20\n",
      " - 1s - loss: 0.0517\n",
      "Epoch 10/20\n",
      " - 1s - loss: 0.0512\n",
      "Epoch 11/20\n",
      " - 1s - loss: 0.0503\n",
      "Epoch 12/20\n",
      " - 1s - loss: 0.0505\n",
      "Epoch 13/20\n",
      " - 1s - loss: 0.0512\n",
      "Epoch 14/20\n",
      " - 1s - loss: 0.0506\n",
      "Epoch 15/20\n",
      " - 1s - loss: 0.0507\n",
      "Epoch 16/20\n",
      " - 1s - loss: 0.0506\n",
      "Epoch 17/20\n",
      " - 1s - loss: 0.0503\n",
      "Epoch 18/20\n",
      " - 1s - loss: 0.0506\n",
      "Epoch 19/20\n",
      " - 1s - loss: 0.0505\n",
      "Epoch 20/20\n",
      " - 1s - loss: 0.0515\n"
     ]
    }
   ],
   "source": [
    "N = len(df)\n",
    "train_size = int(0.6 * N)\n",
    "test_size = N - train_size\n",
    "\n",
    "print(df_features[['SOLD DATE','$/SQUARE FEET']])\n",
    "df = df_features[['SOLD DATE','$/SQUARE FEET']].groupby('SOLD DATE').mean()\n",
    "\n",
    "\n",
    "train, test = data_splitting(df['$/SQUARE FEET'], test_size=0.4)\n",
    "train_index = train.index\n",
    "test_index = test.index\n",
    "\n",
    "train = train.values.reshape(-1,1)\n",
    "test = test.values.reshape(-1,1)\n",
    "\n",
    "scaler = data_scaler(train)\n",
    "train = scaler.transform(train)\n",
    "test = scaler.transform(test)\n",
    "\n",
    "look_back = 5\n",
    "Xtrain,Ytrain = create_dataset(train,look_back=look_back)\n",
    "Xtest,Ytest = create_dataset(test,look_back=look_back)\n",
    "\n",
    "Xtrain = data_reshaping(Xtrain,extend_axis='timestep')\n",
    "Xtest = data_reshaping(Xtest,extend_axis='timestep')\n",
    "\n",
    "lstm = build_lstm(10, look_back, 1)\n",
    "lstm.fit(Xtrain, Ytrain, epochs=20, batch_size=1, verbose=2)\n",
    "\n",
    "Ytrain_pred = lstm.predict(Xtrain)\n",
    "Ytest_pred = lstm.predict(Xtest)\n",
    "\n",
    "Ytrain_pred = scaler.inverse_transform(Ytrain_pred.reshape(-1, 1)).reshape(-1,)\n",
    "Ytest_pred = scaler.inverse_transform(Ytest_pred.reshape(-1, 1)).reshape(-1,)\n",
    "Ytrain = scaler.inverse_transform(Ytrain.reshape(-1, 1)).reshape(-1,)\n",
    "Ytest = scaler.inverse_transform(Ytest.reshape(-1, 1)).reshape(-1,)"
   ]
  },
  {
   "cell_type": "code",
   "execution_count": 101,
   "metadata": {},
   "outputs": [
    {
     "name": "stdout",
     "output_type": "stream",
     "text": [
      "LSTM\n",
      "r2 score:  -187.7392507824864\n",
      "MSE:  16288600755080.67\n",
      "MAE:  0.4004682970186796\n",
      "Baseline\n",
      "r2 score:  -0.9726182026257582\n",
      "MSE:  161402049723.86765\n",
      "MAE:  0.5079202636275907\n"
     ]
    }
   ],
   "source": [
    "def predict_daily_price(df_est_price,df_property):\n",
    "\n",
    "    dict_date_price = {df_est_price.index[i]:\n",
    "                  price for i,price in enumerate((df_est_price))}\n",
    "\n",
    "    df_est_price = df_property['SOLD DATE'].apply(\n",
    "        lambda x: dict_date_price[x] if x in dict_date_price else None)\n",
    "    df_est_price.name = 'EST $/SQUARE FEET'\n",
    "\n",
    "    df_joint = df_property[['SOLD PRICE','SQUARE FEET']].join(df_est_price,how='inner')\n",
    "    df_joint['EST PRICE'] = df_joint['SQUARE FEET']*df_joint['EST $/SQUARE FEET']\n",
    "\n",
    "    df_joint = df_joint.dropna()\n",
    "\n",
    "    return df_joint['EST PRICE'].values, df_joint['SOLD PRICE'].values\n",
    "\n",
    "\n",
    "new_test_index = test_index[look_back+1:]\n",
    "\n",
    "df_Ytest = pd.DataFrame(Ytest,new_test_index,columns=['EST $/SQUARE FEET'])\n",
    "df_Ypred = pd.DataFrame(Ytest_pred,new_test_index,columns=['EST $/SQUARE FEET'])\n",
    "\n",
    "Ytest_lstm,Ytest_pred_lstm = predict_daily_price(df_Ypred['EST $/SQUARE FEET'],df_features)\n",
    "\n",
    "print('LSTM')\n",
    "print('r2 score: ',r2_score(Ytest_pred_lstm,Ytest_lstm))\n",
    "print('MSE: ',mean_squared_error(Ytest_pred_lstm,Ytest_lstm))\n",
    "print('MAE: ',np.mean(np.abs(Ytest_pred_lstm-Ytest_lstm)/Ytest_lstm))\n",
    "\n",
    "Ytest_pred_naive = df_features['SOLD PRICE'][:-1].values\n",
    "Ytest_naive = df_features['SOLD PRICE'][1:].values\n",
    "\n",
    "print('Baseline')\n",
    "print('r2 score: ',r2_score(Ytest_naive,Ytest_pred_naive))\n",
    "print('MSE: ',mean_squared_error(Ytest_naive,Ytest_pred_naive))\n",
    "print('MAE: ',np.mean(np.abs(Ytest_naive-Ytest_pred_naive)/Ytest_naive))"
   ]
  },
  {
   "cell_type": "markdown",
   "metadata": {},
   "source": [
    "The MAE for condo is 0.45 (baseline) and 0.29 (LSTM).\n",
    "\n",
    "The MAE for single family residential is 0.36 (baseline) and 0.22 (LSTM).\n",
    "\n",
    "The MAE for townhouse is 0.51 (baseline) and 0.40 (LSTM).\n",
    "\n",
    "Despite a significant lift compared to baseline, LSTM predictions for all property types have a negative r2 score."
   ]
  },
  {
   "cell_type": "code",
   "execution_count": null,
   "metadata": {},
   "outputs": [],
   "source": []
  }
 ],
 "metadata": {
  "kernelspec": {
   "display_name": "Python 3",
   "language": "python",
   "name": "python3"
  },
  "language_info": {
   "codemirror_mode": {
    "name": "ipython",
    "version": 3
   },
   "file_extension": ".py",
   "mimetype": "text/x-python",
   "name": "python",
   "nbconvert_exporter": "python",
   "pygments_lexer": "ipython3",
   "version": "3.6.10"
  }
 },
 "nbformat": 4,
 "nbformat_minor": 2
}
